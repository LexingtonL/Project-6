{
 "cells": [
  {
   "cell_type": "code",
   "execution_count": null,
   "metadata": {},
   "outputs": [],
   "source": [
    "from abc import ABC, abstractmethod\n",
    "\n",
    "class University(ABC):\n",
    "    \n",
    "    location: str\n",
    "    acceptance_rate = 0.5\n",
    "    \n",
    "    \n",
    "    \n",
    "    \n",
    "    @abstractmethod\n",
    "    def enroll_student(self):\n",
    "        print('student must gradutate highschool')\n",
    "        \n",
    "        \n",
    "        \n",
    "class PubicUni(University):\n",
    "    \n",
    "    def enroll_student(self):\n",
    "        print(f\"The acceptance rate is: {super().acceptance_rate}\")\n",
    "        super().enroll_student()\n",
    "        print(\"student must submit ACT, SAT, GPA\")\n",
    "\n",
    "    def __str__(self):\n",
    "        print(f\"this is a {PubicUni}\")\n",
    "\n",
    "\n",
    "\n",
    "class PrivateUni(University):\n",
    "    \n",
    "    def enroll_student(self):\n",
    "        super().enroll_student()\n",
    "        print(\"student must submit SAT, ACT, GPA\")\n",
    "    \n",
    "    "
   ]
  },
  {
   "cell_type": "code",
   "execution_count": null,
   "metadata": {},
   "outputs": [],
   "source": [
    "UCLA = PubicUni()\n",
    "\n",
    "UCLA.enroll_student()\n",
    "\n",
    "print(UCLA)"
   ]
  },
  {
   "cell_type": "code",
   "execution_count": 7,
   "metadata": {},
   "outputs": [
    {
     "ename": "TypeError",
     "evalue": "Can't instantiate abstract class Human without an implementation for abstract method 'shoot'",
     "output_type": "error",
     "traceback": [
      "\u001b[1;31m---------------------------------------------------------------------------\u001b[0m",
      "\u001b[1;31mTypeError\u001b[0m                                 Traceback (most recent call last)",
      "Cell \u001b[1;32mIn[7], line 53\u001b[0m\n\u001b[0;32m     48\u001b[0m     \u001b[38;5;28;01mdef\u001b[39;00m \u001b[38;5;21mshoot\u001b[39m():\n\u001b[0;32m     49\u001b[0m         \u001b[38;5;28mprint\u001b[39m(\u001b[38;5;124m\"\u001b[39m\u001b[38;5;124mbang bang\u001b[39m\u001b[38;5;124m\"\u001b[39m)\n\u001b[1;32m---> 53\u001b[0m joe_guy \u001b[38;5;241m=\u001b[39m \u001b[43mHuman\u001b[49m\u001b[43m(\u001b[49m\u001b[38;5;241;43m180\u001b[39;49m\u001b[43m,\u001b[49m\u001b[43m \u001b[49m\u001b[38;5;241;43m93\u001b[39;49m\u001b[43m,\u001b[49m\u001b[43m \u001b[49m\u001b[38;5;241;43m30\u001b[39;49m\u001b[43m,\u001b[49m\u001b[43m \u001b[49m\u001b[38;5;124;43m\"\u001b[39;49m\u001b[38;5;124;43mJobby Joe\u001b[39;49m\u001b[38;5;124;43m\"\u001b[39;49m\u001b[43m)\u001b[49m\n\u001b[0;32m     55\u001b[0m private_arnold \u001b[38;5;241m=\u001b[39m ArmyGuy(\u001b[38;5;241m185\u001b[39m, \u001b[38;5;241m76\u001b[39m, \u001b[38;5;241m25\u001b[39m, \u001b[38;5;124m\"\u001b[39m\u001b[38;5;124mArmy Arnold\u001b[39m\u001b[38;5;124m\"\u001b[39m)\n\u001b[0;32m     57\u001b[0m pops \u001b[38;5;241m=\u001b[39m Colonel(\u001b[38;5;241m200\u001b[39m ,\u001b[38;5;241m90\u001b[39m, \u001b[38;5;241m60\u001b[39m, \u001b[38;5;124m\"\u001b[39m\u001b[38;5;124mPretty Pops\u001b[39m\u001b[38;5;124m\"\u001b[39m)\n",
      "\u001b[1;31mTypeError\u001b[0m: Can't instantiate abstract class Human without an implementation for abstract method 'shoot'"
     ]
    }
   ],
   "source": [
    "from abc import ABC, abstractmethod\n",
    "\n",
    "class Human(ABC):\n",
    "    height_in_cm: int\n",
    "    weight_in_kilos: int\n",
    "    age: int\n",
    "    name: str\n",
    "    \n",
    "    def __init__(self, height_in_cm = 170, weight_in_kilos = 70, age = 18, name = \"John Doe\"):\n",
    "        self.height_in_cm = height_in_cm\n",
    "        self.weight_in_kilos = weight_in_kilos\n",
    "        self.age = age\n",
    "        self.name = name\n",
    "    \n",
    "    def move():\n",
    "        print(\"walk\")\n",
    "        \n",
    "    @abstractmethod\n",
    "    def shoot():\n",
    "        print(\"I dont shoot\")\n",
    "    \n",
    "    \n",
    "    def __str__(self):\n",
    "        return (f\"My name is {self.name}\")\n",
    "    \n",
    "    def __len__(self):\n",
    "        return (f\"My height in centimeters is {self.height_in_cm}\")\n",
    "    \n",
    "    \n",
    "    \n",
    "    \n",
    "class ArmyGuy(Human):\n",
    "    \n",
    "    weapon: str\n",
    "    camo_color: str\n",
    "    \n",
    "    def move():\n",
    "        print(\"march\")\n",
    "        \n",
    "    def shoot():\n",
    "        print(\"pew pew\")\n",
    "    \n",
    "    \n",
    "class Colonel(ArmyGuy):\n",
    "    \n",
    "    moustache_size: float\n",
    "    \n",
    "    def shoot():\n",
    "        print(\"bang bang\")\n",
    "        \n",
    "\n",
    "        \n",
    "joe_guy = Human(180, 93, 30, \"Jobby Joe\")\n",
    "\n",
    "private_arnold = ArmyGuy(185, 76, 25, \"Army Arnold\")\n",
    "\n",
    "pops = Colonel(200 ,90, 60, \"Pretty Pops\")"
   ]
  }
 ],
 "metadata": {
  "kernelspec": {
   "display_name": "Python 3",
   "language": "python",
   "name": "python3"
  },
  "language_info": {
   "codemirror_mode": {
    "name": "ipython",
    "version": 3
   },
   "file_extension": ".py",
   "mimetype": "text/x-python",
   "name": "python",
   "nbconvert_exporter": "python",
   "pygments_lexer": "ipython3",
   "version": "3.12.7"
  }
 },
 "nbformat": 4,
 "nbformat_minor": 2
}
